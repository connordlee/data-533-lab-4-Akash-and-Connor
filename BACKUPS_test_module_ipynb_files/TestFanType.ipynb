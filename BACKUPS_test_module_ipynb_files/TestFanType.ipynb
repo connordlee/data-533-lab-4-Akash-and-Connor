{
 "cells": [
  {
   "cell_type": "code",
   "execution_count": 6,
   "metadata": {},
   "outputs": [
    {
     "name": "stderr",
     "output_type": "stream",
     "text": [
      "test_asList (__main__.TestFanType) ... ok\n",
      "test_updateTicketStatus (__main__.TestFanType) ... ok\n",
      "test_updateViewMatches (__main__.TestFanType) ... ok\n",
      "\n",
      "----------------------------------------------------------------------\n",
      "Ran 3 tests in 0.002s\n",
      "\n",
      "OK\n"
     ]
    },
    {
     "data": {
      "text/plain": [
       "<unittest.main.TestProgram at 0x170a540a358>"
      ]
     },
     "execution_count": 6,
     "metadata": {},
     "output_type": "execute_result"
    }
   ],
   "source": [
    "import unittest\n",
    "from club import club\n",
    "from club.fan.fantype import domestic, international\n",
    "\n",
    "class TestFanType(unittest.TestCase):\n",
    "    @classmethod\n",
    "    def setUpClass(cls):\n",
    "        # Initializing domestic \n",
    "        cls.connor = domestic(\"Connor Lee\", \"Sergio Ramos\", 5, \"Madrid\", True, 8)\n",
    "        cls.joe = domestic(\"Joe Miller\", \"Eden Hazard\", 7, \"Valencia\", False, 12)\n",
    "        # Initializing international\n",
    "        cls.akash = international(\"Akash Dhatavkar\", \"Leo Messi\", 4, \"Kelowna\", \"Canada\", \"TV\")\n",
    "        cls.jane = international(\"Jane Doe\", \"Marco Reus\", 8, \"San Francisco\", \"US\", \"Online\")\n",
    "        \n",
    "    def setUp(self):\n",
    "        # Initializing Club Info For Testing\n",
    "        dlist = [self.connor.asList(), self.joe.asList()]\n",
    "        ilist = [self.akash.asList(), self.jane.asList()]\n",
    "        self.madrid = club.club(domesticList = dlist, internationalList = ilist)\n",
    "\n",
    "    @classmethod\n",
    "    def tearDownClass(cls):\n",
    "        # Deleting Staff and Player Objects\n",
    "        del cls.connor\n",
    "        del cls.akash\n",
    "        del cls.joe\n",
    "        del cls.jane\n",
    "\n",
    "    def tearDown(self):\n",
    "        # Deleting Club Object\n",
    "        del self.madrid\n",
    "\n",
    "    def test_updateTicketStatus(self):\n",
    "        # Testing Update Ticket Status\n",
    "        self.madrid.fans[\"domestic\"][0].updateTicketStatus(False)\n",
    "        self.madrid.fans[\"domestic\"][1].updateTicketStatus(True)\n",
    "        self.assertFalse(self.madrid.fans[\"domestic\"][0].hasSeasonTickets, False)\n",
    "        self.assertTrue(self.madrid.fans[\"domestic\"][1].hasSeasonTickets, True)\n",
    "        # Testing update domestic independent of club \n",
    "        self.connor.updateTicketStatus(True)\n",
    "        self.joe.updateTicketStatus(False)\n",
    "        self.assertEqual(self.connor.hasSeasonTickets, True)\n",
    "        self.assertEqual(self.joe.hasSeasonTickets, False)\n",
    "        # Testing that assertIs works on the updated domestic \n",
    "        self.assertIs(self.connor.hasSeasonTickets, True)\n",
    "        self.assertIs(self.joe.hasSeasonTickets, False)\n",
    "        \n",
    "    def test_updateViewMatches(self):\n",
    "        # Testing Update View Matches\n",
    "        self.madrid.fans[\"international\"][0].updateViewMatches(\"Online\")\n",
    "        self.madrid.fans[\"international\"][1].updateViewMatches(\"TV\")\n",
    "        self.assertEqual(self.madrid.fans[\"international\"][0].viewMatches, \"Online\")\n",
    "        self.assertEqual(self.madrid.fans[\"international\"][1].viewMatches, \"TV\")\n",
    "        # Testing update international independent of club \n",
    "        self.akash.updateViewMatches(\"TV\")\n",
    "        self.jane.updateViewMatches(\"Online\")\n",
    "        self.assertEqual(self.akash.viewMatches, \"TV\")\n",
    "        self.assertEqual(self.jane.viewMatches, \"Online\")\n",
    "        # Testing that assertIs works on the updated players (2 assertions)\n",
    "        self.assertIs(self.akash.viewMatches, \"TV\")\n",
    "        self.assertIs(self.jane.viewMatches, \"Online\")\n",
    "\n",
    "    def test_asList(self):\n",
    "        # Running the asList function on one player and one staff\n",
    "        connorList = self.connor.asList()\n",
    "        akashList = self.akash.asList()\n",
    "        # Testing that the output is of type list (2 assertions)\n",
    "        self.assertIsInstance(connorList, list)\n",
    "        self.assertIsInstance(akashList, list)\n",
    "        # Testing that information in lists are correct (4 assertions)\n",
    "        self.assertEqual(connorList[0], \"Connor Lee\")\n",
    "        self.assertEqual(connorList[5], 8)\n",
    "        self.assertEqual(akashList[1], \"Leo Messi\")\n",
    "        self.assertEqual(akashList[2], 4)\n",
    "\n",
    "unittest.main(argv=[''], verbosity=2, exit=False)\n"
   ]
  },
  {
   "cell_type": "code",
   "execution_count": null,
   "metadata": {},
   "outputs": [],
   "source": []
  }
 ],
 "metadata": {
  "kernelspec": {
   "display_name": "Python 3",
   "language": "python",
   "name": "python3"
  },
  "language_info": {
   "codemirror_mode": {
    "name": "ipython",
    "version": 3
   },
   "file_extension": ".py",
   "mimetype": "text/x-python",
   "name": "python",
   "nbconvert_exporter": "python",
   "pygments_lexer": "ipython3",
   "version": "3.7.3"
  }
 },
 "nbformat": 4,
 "nbformat_minor": 2
}
