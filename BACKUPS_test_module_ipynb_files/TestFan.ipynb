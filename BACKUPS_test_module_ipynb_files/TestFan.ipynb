{
 "cells": [
  {
   "cell_type": "code",
   "execution_count": 1,
   "metadata": {},
   "outputs": [
    {
     "name": "stderr",
     "output_type": "stream",
     "text": [
      "test_getCurrentCity_setCurrentCity (__main__.TestFan) ... ok\n",
      "test_getFavouritePlayer_setFavouritePlayer (__main__.TestFan) ... ok\n",
      "test_getPurchaseMerchandise_setPurchaseMerchandise (__main__.TestFan) ... ok\n",
      "\n",
      "----------------------------------------------------------------------\n",
      "Ran 3 tests in 0.003s\n",
      "\n",
      "OK\n"
     ]
    },
    {
     "data": {
      "text/plain": [
       "<unittest.main.TestProgram at 0x1bd58ebbfd0>"
      ]
     },
     "execution_count": 1,
     "metadata": {},
     "output_type": "execute_result"
    }
   ],
   "source": [
    "import unittest\n",
    "from club import club\n",
    "from club.fan.fan import fan\n",
    "\n",
    "class TestFan(unittest.TestCase):\n",
    "    @classmethod\n",
    "    def setUpClass(cls):\n",
    "        # Initializing members with changes\n",
    "        cls.connor = fan(\"Connor Lee\", \"Sergio Ramos\", 5, \"Kelowna\")\n",
    "        cls.akash = fan(\"Akash Dhatavkar\", \"Leo Messi\", 5, \"Kelowna\")\n",
    "        \n",
    "    def setUp(self):\n",
    "        # Initializing members to be reset each time\n",
    "        self.joe = fan(\"Joe Miller\", \"Eden Hazard\", 5, \"London\")\n",
    "        self.jane = fan(\"Jane Doe\", \"Sergio Ramos\", 5, \"Kelowna\")\n",
    "\n",
    "    @classmethod\n",
    "    def tearDownClass(cls):\n",
    "        # Delete SetUpClass\n",
    "        del cls.connor\n",
    "        del cls.akash\n",
    "\n",
    "    def tearDown(self):\n",
    "        # Delete SetUp \n",
    "        del self.joe\n",
    "        del self.jane\n",
    "\n",
    "    def test_getFavouritePlayer_setFavouritePlayer(self):\n",
    "        # Set New Favourite Player\n",
    "        self.connor.setFavouritePlayer(\"Virgil Van Dijk\")\n",
    "        self.akash.setFavouritePlayer(\"Cristiano Ronaldo\")\n",
    "        self.joe.setFavouritePlayer(\"Sadio Mane\")\n",
    "        self.jane.setFavouritePlayer(\"Mo Salah\")\n",
    "        # Test setFavouritePlayer using the getFavouritePlayer \n",
    "        self.assertEqual(self.connor.getFavouritePlayer(), \"Virgil Van Dijk\")\n",
    "        self.assertEqual(self.akash.getFavouritePlayer(), \"Cristiano Ronaldo\")\n",
    "        self.assertEqual(self.joe.getFavouritePlayer(), \"Sadio Mane\")\n",
    "        self.assertEqual(self.jane.getFavouritePlayer(), \"Mo Salah\")\n",
    "        # Test to check Instance is correct\n",
    "        self.assertIsInstance(self.connor.getFavouritePlayer(), str)\n",
    "        self.assertIsInstance(self.akash.getFavouritePlayer(), str)\n",
    "        self.assertIsInstance(self.joe.getFavouritePlayer(), str)\n",
    "        self.assertIsInstance(self.jane.getFavouritePlayer(), str)\n",
    "        \n",
    "    def test_getPurchaseMerchandise_setPurchaseMerchandise(self):\n",
    "        # Set Purchase Merchandise\n",
    "        self.connor.setPurchasedMerchandise(7)\n",
    "        self.akash.setPurchasedMerchandise(4)\n",
    "        self.joe.setPurchasedMerchandise(9)\n",
    "        self.jane.setPurchasedMerchandise(3)\n",
    "        # Test setPurchaseMerchandise using the getPurchaseMerchandise \n",
    "        self.assertEqual(self.connor.getPurchasedMerchandise(), 7)\n",
    "        self.assertEqual(self.akash.getPurchasedMerchandise(), 4)\n",
    "        self.assertEqual(self.joe.getPurchasedMerchandise(), 9)\n",
    "        self.assertEqual(self.jane.getPurchasedMerchandise(), 3)\n",
    "        # Test to check Instance is correct\n",
    "        self.assertIsInstance(self.connor.getPurchasedMerchandise(), int)\n",
    "        self.assertIsInstance(self.akash.getPurchasedMerchandise(), int)\n",
    "        self.assertIsInstance(self.joe.getPurchasedMerchandise(), int)\n",
    "        self.assertIsInstance(self.jane.getPurchasedMerchandise(), int)\n",
    "\n",
    "    def test_getCurrentCity_setCurrentCity(self):\n",
    "        # Set New Favourite Player\n",
    "        self.connor.setCurrentCity(\"Vancouver\")\n",
    "        self.akash.setCurrentCity(\"Paris\")\n",
    "        self.joe.setCurrentCity(\"Geneva\")\n",
    "        self.jane.setCurrentCity(\"San Francisco\")\n",
    "        # Test setPurchaseMerchandise using the getPurchaseMerchandise \n",
    "        self.assertEqual(self.connor.getCurrentCity(), \"Vancouver\")\n",
    "        self.assertEqual(self.akash.getCurrentCity(), \"Paris\")\n",
    "        self.assertEqual(self.joe.getCurrentCity(), \"Geneva\")\n",
    "        self.assertEqual(self.jane.getCurrentCity(), \"San Francisco\")\n",
    "        # Test to check Instance is correct\n",
    "        self.assertIsInstance(self.connor.getCurrentCity(), str)\n",
    "        self.assertIsInstance(self.akash.getCurrentCity(), str)\n",
    "        self.assertIsInstance(self.joe.getCurrentCity(), str)\n",
    "        self.assertIsInstance(self.jane.getCurrentCity(), str)\n",
    "\n",
    "unittest.main(argv=[''], verbosity=2, exit=False)"
   ]
  },
  {
   "cell_type": "code",
   "execution_count": null,
   "metadata": {},
   "outputs": [],
   "source": []
  }
 ],
 "metadata": {
  "kernelspec": {
   "display_name": "Python 3",
   "language": "python",
   "name": "python3"
  },
  "language_info": {
   "codemirror_mode": {
    "name": "ipython",
    "version": 3
   },
   "file_extension": ".py",
   "mimetype": "text/x-python",
   "name": "python",
   "nbconvert_exporter": "python",
   "pygments_lexer": "ipython3",
   "version": "3.7.3"
  }
 },
 "nbformat": 4,
 "nbformat_minor": 2
}
