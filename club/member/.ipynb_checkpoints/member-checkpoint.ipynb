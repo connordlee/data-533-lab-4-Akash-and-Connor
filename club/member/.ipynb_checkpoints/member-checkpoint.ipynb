{
 "cells": [
  {
   "cell_type": "code",
   "execution_count": 23,
   "metadata": {},
   "outputs": [],
   "source": [
    "class member:\n",
    "    def __init__(self, name, nationality, salary, yearsWClub):\n",
    "        self.name = name\n",
    "        self.nationality = nationality\n",
    "        self.__salary = salary\n",
    "        self.yearsWClub = yearsWClub\n",
    "        \n",
    "    def updateNationality(self, newNationality):\n",
    "        self.nationality = newNationality\n",
    "        \n",
    "    def setSalary(self, newSalary):\n",
    "        self.__salary = newSalary\n",
    "        \n",
    "    def getSalary(self):\n",
    "        return self.__salary\n",
    "    \n",
    "    def newYear(self):\n",
    "        self.yearsWClub += 1\n",
    "    \n",
    "    def display(self):\n",
    "        print(\"           Name: {}\\n    Nationality: {}\\nYears With Club: {}\".format(self.name, self.nationality, self.yearsWClub))"
   ]
  },
  {
   "cell_type": "code",
   "execution_count": 24,
   "metadata": {},
   "outputs": [],
   "source": [
    "class player(member):\n",
    "    def __init__(self, name, nationality, salary, yearsWClub, position, jersey):\n",
    "        member.__init__(self, name, nationality, salary, yearsWClub)\n",
    "        self.position = position\n",
    "        self.jersey = jersey\n",
    "    \n",
    "    def updatePosition(self, newPosition):\n",
    "        self.position = newPosition\n",
    "    \n",
    "    def updateJersyNum(self, newJersey):\n",
    "        self.jersey = newJersey\n",
    "        \n",
    "    def display(self):\n",
    "        member.display(self)\n",
    "        print(\"       Position: {}\\n  Jersey Number: {}\".format(self.position, self.jersey))"
   ]
  },
  {
   "cell_type": "code",
   "execution_count": 29,
   "metadata": {},
   "outputs": [],
   "source": [
    "class staff(member):\n",
    "    def __init__(self, name, nationality, salary, yearsWClub, title):\n",
    "        member.__init__(self, name, nationality, salary, yearsWClub)\n",
    "        self.title = title\n",
    "    \n",
    "    def updateTitle(self, newTitle):\n",
    "        self.title = newTitle\n",
    "    \n",
    "    def display(self):\n",
    "        member.display(self)\n",
    "        print(\"      Job Title: {}\".format(self.title))"
   ]
  },
  {
   "cell_type": "code",
   "execution_count": 31,
   "metadata": {},
   "outputs": [
    {
     "name": "stdout",
     "output_type": "stream",
     "text": [
      "           Name: Sir Alexander Fergason\n",
      "    Nationality: British\n",
      "Years With Club: 30\n",
      "      Job Title: Skipper\n",
      "1000000000\n",
      "           Name: Sir Alexander Fergason\n",
      "    Nationality: English\n",
      "Years With Club: 31\n",
      "      Job Title: Coach\n",
      "1111111111111111\n"
     ]
    }
   ],
   "source": [
    "fergason = staff('Sir Alexander Fergason', 'British', 1000000000, 30, 'Skipper')\n",
    "fergason.display()\n",
    "fergason.updateTitle('Coach')\n",
    "print(fergason.getSalary())\n",
    "fergason.setSalary(1111111111111111)\n",
    "fergason.newYear()\n",
    "fergason.updateNationality(\"English\")\n",
    "fergason.display()\n",
    "print(fergason.getSalary())"
   ]
  },
  {
   "cell_type": "code",
   "execution_count": null,
   "metadata": {},
   "outputs": [],
   "source": []
  }
 ],
 "metadata": {
  "kernelspec": {
   "display_name": "Python 3",
   "language": "python",
   "name": "python3"
  },
  "language_info": {
   "codemirror_mode": {
    "name": "ipython",
    "version": 3
   },
   "file_extension": ".py",
   "mimetype": "text/x-python",
   "name": "python",
   "nbconvert_exporter": "python",
   "pygments_lexer": "ipython3",
   "version": "3.7.3"
  }
 },
 "nbformat": 4,
 "nbformat_minor": 2
}
