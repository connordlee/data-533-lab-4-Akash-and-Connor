{
 "cells": [
  {
   "cell_type": "code",
   "execution_count": 3,
   "metadata": {},
   "outputs": [
    {
     "name": "stderr",
     "output_type": "stream",
     "text": [
      "test_newYear (__main__.TestMember) ... ok\n",
      "test_setSalary_getSalary (__main__.TestMember) ... ok\n",
      "test_updateNationality (__main__.TestMember) ... ok\n",
      "\n",
      "----------------------------------------------------------------------\n",
      "Ran 3 tests in 0.002s\n",
      "\n",
      "OK\n"
     ]
    },
    {
     "data": {
      "text/plain": [
       "<unittest.main.TestProgram at 0x7f6b4045ddd8>"
      ]
     },
     "execution_count": 3,
     "metadata": {},
     "output_type": "execute_result"
    }
   ],
   "source": [
    "import unittest\n",
    "from club import club\n",
    "from club.member.member import member\n",
    "\n",
    "class TestMember(unittest.TestCase):\n",
    "    @classmethod\n",
    "    def setUpClass(cls):\n",
    "        # Initializing members with changes\n",
    "        cls.vazquez = member('Roberto Vazquez', 'Spain', 3200000, 1)\n",
    "        cls.zidane = member('Zinedine Zidane', 'France', 5500000, 9)\n",
    "        \n",
    "    def setUp(self):\n",
    "        # Initializing members to be reset each time\n",
    "        self.ramos = member('Sergio Ramos', 'Spain', 15000000, 14)\n",
    "        self.benzema = member('Karim Benzema', 'France', 7920000, 10)\n",
    "\n",
    "    @classmethod\n",
    "    def tearDownClass(cls):\n",
    "        # Deleting Members created in setUpClass\n",
    "        del cls.zidane\n",
    "        del cls.vazquez\n",
    "\n",
    "    def tearDown(self):\n",
    "        # Deleting Members created in setUp\n",
    "        del self.ramos\n",
    "        del self.benzema\n",
    "\n",
    "    def test_updateNationality(self):\n",
    "        # Updating the nationalities for the members\n",
    "        self.ramos.updateNationality('Spanish')\n",
    "        self.benzema.updateNationality('French')\n",
    "        self.vazquez.updateNationality('Spanish')\n",
    "        self.zidane.updateNationality('French')\n",
    "        # Testing that the nationalities updated (4 assertions)\n",
    "        self.assertEqual(self.ramos.nationality,'Spanish')\n",
    "        self.assertEqual(self.benzema.nationality, 'French')\n",
    "        self.assertEqual(self.vazquez.nationality,'Spanish')\n",
    "        self.assertEqual(self.zidane.nationality, 'French')\n",
    "        # Testing that the nationalities are all of type string (4 assertions)\n",
    "        self.assertIsInstance(self.ramos.nationality, str)\n",
    "        self.assertIsInstance(self.benzema.nationality, str)\n",
    "        self.assertIsInstance(self.vazquez.nationality, str)\n",
    "        self.assertIsInstance(self.zidane.nationality, str)\n",
    "        \n",
    "    def test_setSalary_getSalary(self):\n",
    "        # Setting the salaries to something new for the members\n",
    "        self.ramos.setSalary(1)\n",
    "        self.benzema.setSalary(2)\n",
    "        self.vazquez.setSalary(3)\n",
    "        self.zidane.setSalary(4)\n",
    "        # Testing that the setSalary worked and that the getSalary pulls the correct information (4 assertions)\n",
    "        self.assertEqual(self.ramos.getSalary(), 1)\n",
    "        self.assertEqual(self.benzema.getSalary(), 2)\n",
    "        self.assertEqual(self.vazquez.getSalary(), 3)\n",
    "        self.assertEqual(self.zidane.getSalary(), 4)\n",
    "        # Testing that the getSalary method pulls integers\n",
    "        self.assertIsInstance(self.ramos.getSalary(), int)\n",
    "        self.assertIsInstance(self.benzema.getSalary(), int)\n",
    "        self.assertIsInstance(self.vazquez.getSalary(), int)\n",
    "        self.assertIsInstance(self.zidane.getSalary(), int)\n",
    "\n",
    "    def test_newYear(self):\n",
    "        # Storing temporary variables for years before running newYear method\n",
    "        ramosYrs = self.ramos.yearsWClub\n",
    "        benzemaYrs = self.benzema.yearsWClub\n",
    "        vazquezYrs = self.vazquez.yearsWClub\n",
    "        zidaneYrs = self.zidane.yearsWClub\n",
    "        # Running the newYear method\n",
    "        self.ramos.newYear()\n",
    "        self.benzema.newYear()\n",
    "        self.vazquez.newYear()\n",
    "        self.zidane.newYear()\n",
    "        # Testing if the new year method increased the value by 1 (4 assertions)\n",
    "        self.assertEqual(self.ramos.yearsWClub, ramosYrs+1)\n",
    "        self.assertEqual(self.benzema.yearsWClub, benzemaYrs+1)\n",
    "        self.assertEqual(self.vazquez.yearsWClub, vazquezYrs+1)\n",
    "        self.assertEqual(self.zidane.yearsWClub, zidaneYrs+1)\n",
    "        # Testing if the new year method keeps data as integer (4 assertions)\n",
    "        self.assertIsInstance(self.ramos.yearsWClub, int)\n",
    "        self.assertIsInstance(self.benzema.yearsWClub, int)\n",
    "        self.assertIsInstance(self.vazquez.yearsWClub, int)\n",
    "        self.assertIsInstance(self.zidane.yearsWClub, int)\n",
    "\n",
    "unittest.main(argv=[''], verbosity=2, exit=False)\n"
   ]
  },
  {
   "cell_type": "code",
   "execution_count": null,
   "metadata": {},
   "outputs": [],
   "source": []
  }
 ],
 "metadata": {
  "kernelspec": {
   "display_name": "Python 3",
   "language": "python",
   "name": "python3"
  },
  "language_info": {
   "codemirror_mode": {
    "name": "ipython",
    "version": 3
   },
   "file_extension": ".py",
   "mimetype": "text/x-python",
   "name": "python",
   "nbconvert_exporter": "python",
   "pygments_lexer": "ipython3",
   "version": "3.7.3"
  }
 },
 "nbformat": 4,
 "nbformat_minor": 2
}
