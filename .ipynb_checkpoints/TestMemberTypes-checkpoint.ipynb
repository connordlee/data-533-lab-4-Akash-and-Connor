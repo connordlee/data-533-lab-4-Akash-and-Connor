{
 "cells": [
  {
   "cell_type": "code",
   "execution_count": 1,
   "metadata": {},
   "outputs": [
    {
     "name": "stderr",
     "output_type": "stream",
     "text": [
      "test_asList (__main__.TestMemberTypes) ... ok\n",
      "test_updateJerseyNum (__main__.TestMemberTypes) ... ok\n",
      "test_updatePosition (__main__.TestMemberTypes) ... ok\n",
      "test_updateTitle (__main__.TestMemberTypes) ... "
     ]
    },
    {
     "name": "stdout",
     "output_type": "stream",
     "text": [
      "\n",
      "Testing the membertypes module\n"
     ]
    },
    {
     "name": "stderr",
     "output_type": "stream",
     "text": [
      "ok\n",
      "\n",
      "----------------------------------------------------------------------\n",
      "Ran 4 tests in 0.004s\n",
      "\n",
      "OK\n"
     ]
    },
    {
     "data": {
      "text/plain": [
       "<unittest.main.TestProgram at 0x7ff8eeb80630>"
      ]
     },
     "execution_count": 1,
     "metadata": {},
     "output_type": "execute_result"
    }
   ],
   "source": [
    "import unittest\n",
    "from club import club\n",
    "from club.member.membertypes import player, staff\n",
    "\n",
    "class TestMemberTypes(unittest.TestCase):\n",
    "    @classmethod\n",
    "    def setUpClass(cls):\n",
    "        # Initializing Staff for testing\n",
    "        cls.zidane = staff('Zinedine Zidane', 'France', 5500000, 9, 'Skipper')\n",
    "        cls.vazquez = staff('Roberto Vazquez', 'Spain', 3200000, 1, 'Goalkeeping Coach')\n",
    "        # Initial izing Players for testing\n",
    "        cls.ramos = player('Sergio Ramos', 'Spain', 15000000, 14, 'Right Back', 15)\n",
    "        cls.benzema = player('Karim Benzema', 'French', 7920000, 10, 'Striker', 9)\n",
    "        \n",
    "    def setUp(self):\n",
    "        # Initializing Club Info For Testing\n",
    "        plist = [self.ramos.asList(), self.benzema.asList()]\n",
    "        slist = [self.zidane.asList(), self.vazquez.asList()]\n",
    "        self.madrid = club.club(plist, slist)\n",
    "\n",
    "    @classmethod\n",
    "    def tearDownClass(cls):\n",
    "        # Deleting Staff and Player Objects\n",
    "        del cls.zidane\n",
    "        del cls.vazquez\n",
    "        del cls.ramos\n",
    "        del cls.benzema\n",
    "\n",
    "    def tearDown(self):\n",
    "        # Deleting Club Object\n",
    "        del self.madrid\n",
    "\n",
    "    def test_updatePosition(self):\n",
    "        # Testing Updating Players stored inside a club (2 assertions)\n",
    "        self.madrid.members['players'][0].updatePosition('Center Back')\n",
    "        self.madrid.members['players'][1].updatePosition('Left Right Out')\n",
    "        self.assertEqual(self.madrid.members['players'][0].position,'Center Back')\n",
    "        self.assertEqual(self.madrid.members['players'][1].position, 'Left Right Out')\n",
    "        # Testing updating players independent of club (2 assertions)\n",
    "        self.ramos.updatePosition('Bench Warmer')\n",
    "        self.benzema.updatePosition('Forward')\n",
    "        self.assertEqual(self.ramos.position, 'Bench Warmer')\n",
    "        self.assertEqual(self.benzema.position, 'Forward')\n",
    "        # Testing that assertIs works on the updated players (2 assertions)\n",
    "        self.assertIs(self.ramos.position, 'Bench Warmer')\n",
    "        self.assertIs(self.benzema.position, 'Forward')\n",
    "        \n",
    "    def test_updateJerseyNum(self):\n",
    "        # Testing Updating Players stored inside a club (2 assertions)\n",
    "        self.madrid.members['players'][0].updateJerseyNum(0)\n",
    "        self.madrid.members['players'][1].updateJerseyNum(9)\n",
    "        self.assertEqual(self.madrid.members['players'][0].jersey,0)\n",
    "        self.assertEqual(self.madrid.members['players'][1].jersey, 9)\n",
    "        # Testing updating players independent of club (2 assertions)\n",
    "        self.ramos.updateJerseyNum(40000000)\n",
    "        self.benzema.updateJerseyNum(-43)\n",
    "        self.assertEqual(self.ramos.jersey, 40000000)\n",
    "        self.assertEqual(self.benzema.jersey, -43)\n",
    "        # Testing that assertIs works on the updated players (2 assertions)\n",
    "        self.assertIs(self.ramos.jersey, 40000000)\n",
    "        self.assertIs(self.benzema.jersey, -43)\n",
    "        \n",
    "    def test_updateTitle(self):\n",
    "        # Testing Updating Players stored inside a club (2 assertions)\n",
    "        self.madrid.members['staff'][0].updateTitle('Manager')\n",
    "        self.madrid.members['staff'][1].updateTitle('Keeper Keeper')\n",
    "        self.assertEqual(self.madrid.members['staff'][0].title,'Manager')\n",
    "        self.assertEqual(self.madrid.members['staff'][1].title, 'Keeper Keeper')\n",
    "        # Testing updating players independent of club (2 assertions)\n",
    "        self.zidane.updateTitle('Bench Warmer')\n",
    "        self.vazquez.updateTitle('Forward')\n",
    "        self.assertEqual(self.zidane.title, 'Bench Warmer')\n",
    "        self.assertEqual(self.vazquez.title, 'Forward')\n",
    "        # Testing that assertIs works on the updated players (2 assertions)\n",
    "        self.assertIs(self.zidane.title, 'Bench Warmer')\n",
    "        self.assertIs(self.vazquez.title, 'Forward')\n",
    "\n",
    "    def test_asList(self):\n",
    "        # Running the asList function on one player and one staff\n",
    "        ramosList = self.ramos.asList()\n",
    "        zidaneList = self.zidane.asList()\n",
    "        # Testing that the output is of type list (2 assertions)\n",
    "        self.assertIsInstance(ramosList, list)\n",
    "        self.assertIsInstance(zidaneList, list)\n",
    "        # Testing that information in lists are correct (4 assertions)\n",
    "        self.assertEqual(ramosList[0], 'Sergio Ramos')\n",
    "        self.assertEqual(ramosList[5], 15)\n",
    "        self.assertEqual(zidaneList[1], 'France')\n",
    "        self.assertEqual(zidaneList[2], 5500000)\n",
    "\n",
    "unittest.main(argv=[''], verbosity=2, exit=False)\n"
   ]
  },
  {
   "cell_type": "code",
   "execution_count": null,
   "metadata": {},
   "outputs": [],
   "source": []
  }
 ],
 "metadata": {
  "kernelspec": {
   "display_name": "Python 3",
   "language": "python",
   "name": "python3"
  },
  "language_info": {
   "codemirror_mode": {
    "name": "ipython",
    "version": 3
   },
   "file_extension": ".py",
   "mimetype": "text/x-python",
   "name": "python",
   "nbconvert_exporter": "python",
   "pygments_lexer": "ipython3",
   "version": "3.7.3"
  }
 },
 "nbformat": 4,
 "nbformat_minor": 2
}
