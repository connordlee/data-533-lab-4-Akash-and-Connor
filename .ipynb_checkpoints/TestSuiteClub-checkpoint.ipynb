{
 "cells": [
  {
   "cell_type": "code",
   "execution_count": 1,
   "metadata": {},
   "outputs": [
    {
     "name": "stderr",
     "output_type": "stream",
     "text": [
      "\n",
      "----------------------------------------------------------------------\n",
      "Ran 0 tests in 0.000s\n",
      "\n",
      "OK\n",
      "test_asList (TestMemberTypes.TestMemberTypes) ... ok\n",
      "test_updateJerseyNum (TestMemberTypes.TestMemberTypes) ... ok\n",
      "test_updatePosition (TestMemberTypes.TestMemberTypes) ... ok\n",
      "test_updateTitle (TestMemberTypes.TestMemberTypes) ... ok\n",
      "\n",
      "----------------------------------------------------------------------\n",
      "Ran 4 tests in 0.003s\n",
      "\n",
      "OK\n",
      "test_newYear (TestMember.TestMember) ... ok\n",
      "test_setSalary_getSalary (TestMember.TestMember) ... ok\n",
      "test_updateNationality (TestMember.TestMember) ... ok\n",
      "test_asList (TestMemberTypes.TestMemberTypes) ... ok\n",
      "test_updateJerseyNum (TestMemberTypes.TestMemberTypes) ... ok\n",
      "test_updatePosition (TestMemberTypes.TestMemberTypes) ... ok\n",
      "test_updateTitle (TestMemberTypes.TestMemberTypes) ... ok\n",
      "\n",
      "----------------------------------------------------------------------\n",
      "Ran 7 tests in 0.003s\n",
      "\n",
      "OK\n",
      "test_asList (TestFanType.TestFanType) ... ok\n",
      "test_updateTicketStatus (TestFanType.TestFanType) ... ok\n",
      "test_updateViewMatches (TestFanType.TestFanType) ... ok\n",
      "test_newYear (TestMember.TestMember) ... ok\n",
      "test_setSalary_getSalary (TestMember.TestMember) ... ok\n",
      "test_updateNationality (TestMember.TestMember) ... ok\n",
      "test_asList (TestMemberTypes.TestMemberTypes) ... ok\n",
      "test_updateJerseyNum (TestMemberTypes.TestMemberTypes) ... ok\n",
      "test_updatePosition (TestMemberTypes.TestMemberTypes) ... ok\n",
      "test_updateTitle (TestMemberTypes.TestMemberTypes) ... ok\n",
      "\n",
      "----------------------------------------------------------------------\n",
      "Ran 10 tests in 0.010s\n",
      "\n",
      "OK\n",
      "test_getCurrentCity_setCurrentCity (TestFan.TestFan) ... ok\n",
      "test_getFavouritePlayer_setFavouritePlayer (TestFan.TestFan) ... ok\n",
      "test_getPurchaseMerchandise_setPurchaseMerchandise (TestFan.TestFan) ... ok\n",
      "test_asList (TestFanType.TestFanType) ... ok\n",
      "test_updateTicketStatus (TestFanType.TestFanType) ... ok\n",
      "test_updateViewMatches (TestFanType.TestFanType) ... ok\n",
      "test_newYear (TestMember.TestMember) ... ok\n",
      "test_setSalary_getSalary (TestMember.TestMember) ... ok\n",
      "test_updateNationality (TestMember.TestMember) ... ok\n",
      "test_asList (TestMemberTypes.TestMemberTypes) ... ok\n",
      "test_updateJerseyNum (TestMemberTypes.TestMemberTypes) ... ok\n",
      "test_updatePosition (TestMemberTypes.TestMemberTypes) ... ok\n",
      "test_updateTitle (TestMemberTypes.TestMemberTypes) ... ok\n",
      "\n",
      "----------------------------------------------------------------------\n",
      "Ran 13 tests in 0.012s\n",
      "\n",
      "OK\n",
      "........................."
     ]
    },
    {
     "name": "stdout",
     "output_type": "stream",
     "text": [
      "<unittest.runner.TextTestResult run=25 errors=0 failures=0>\n"
     ]
    },
    {
     "name": "stderr",
     "output_type": "stream",
     "text": [
      "\n",
      "----------------------------------------------------------------------\n",
      "Ran 25 tests in 0.020s\n",
      "\n",
      "OK\n"
     ]
    }
   ],
   "source": [
    "import unittest\n",
    "\n",
    "from TestMemberTypes import TestMemberTypes\n",
    "from TestMember import TestMember\n",
    "from TestFanType import TestFanType\n",
    "from TestFan import TestFan\n",
    "\n",
    "from TestClub import TestClub\n",
    "\n",
    "\n",
    "def TestSuiteClub():\n",
    "    suite = unittest.TestSuite()\n",
    "    result = unittest.TestResult()\n",
    "    suite.addTest(unittest.makeSuite(TestMemberTypes))\n",
    "    suite.addTest(unittest.makeSuite(TestMember))\n",
    "    suite.addTest(unittest.makeSuite(TestFanType))\n",
    "    suite.addTest(unittest.makeSuite(TestFan))\n",
    "    suite.addTest(unittest.makeSuite(TestClub))\n",
    "    runner = unittest.TextTestRunner()\n",
    "    print(runner.run(suite))\n",
    "TestSuiteClub()"
   ]
  },
  {
   "cell_type": "code",
   "execution_count": null,
   "metadata": {},
   "outputs": [],
   "source": []
  }
 ],
 "metadata": {
  "kernelspec": {
   "display_name": "Python 3",
   "language": "python",
   "name": "python3"
  },
  "language_info": {
   "codemirror_mode": {
    "name": "ipython",
    "version": 3
   },
   "file_extension": ".py",
   "mimetype": "text/x-python",
   "name": "python",
   "nbconvert_exporter": "python",
   "pygments_lexer": "ipython3",
   "version": "3.7.3"
  }
 },
 "nbformat": 4,
 "nbformat_minor": 2
}
