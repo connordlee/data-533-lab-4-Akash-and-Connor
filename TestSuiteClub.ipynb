{
 "cells": [
  {
   "cell_type": "code",
   "execution_count": 2,
   "metadata": {},
   "outputs": [
    {
     "name": "stderr",
     "output_type": "stream",
     "text": [
      "test_addDomestic (TestClub.TestClub) ... ok\n",
      "test_addInternational (TestClub.TestClub) ... ok\n",
      "test_addPlayer (TestClub.TestClub) ... ok\n",
      "test_addStaff (TestClub.TestClub) ... ok\n",
      "test_removeDomestic (TestClub.TestClub) ... ok\n",
      "test_removeInternational (TestClub.TestClub) ... ok\n",
      "test_removePlayer (TestClub.TestClub) ... ok\n",
      "test_removeStaff (TestClub.TestClub) ... ok\n",
      "test_updateDomestic (TestClub.TestClub) ... ok\n",
      "test_updateInternational (TestClub.TestClub) ... ok\n",
      "test_updatePlayer (TestClub.TestClub) ... ok\n",
      "test_updateStaff (TestClub.TestClub) ... ok\n",
      "test_newYear (TestMember.TestMember) ... ok\n",
      "test_setSalary_getSalary (TestMember.TestMember) ... ok\n",
      "test_updateNationality (TestMember.TestMember) ... ok\n",
      "test_asList (TestMemberTypes.TestMemberTypes) ... ok\n",
      "test_updateJerseyNum (TestMemberTypes.TestMemberTypes) ... ok\n",
      "test_updatePosition (TestMemberTypes.TestMemberTypes) ... ok\n",
      "test_updateTitle (TestMemberTypes.TestMemberTypes) ... ok\n",
      "\n",
      "----------------------------------------------------------------------\n",
      "Ran 19 tests in 0.013s\n",
      "\n",
      "OK\n",
      "test_addDomestic (TestClub.TestClub) ... ok\n",
      "test_addInternational (TestClub.TestClub) ... ok\n",
      "test_addPlayer (TestClub.TestClub) ... ok\n",
      "test_addStaff (TestClub.TestClub) ... ok\n",
      "test_removeDomestic (TestClub.TestClub) ... ok\n",
      "test_removeInternational (TestClub.TestClub) ... ok\n",
      "test_removePlayer (TestClub.TestClub) ... ok\n",
      "test_removeStaff (TestClub.TestClub) ... ok\n",
      "test_updateDomestic (TestClub.TestClub) ... ok\n",
      "test_updateInternational (TestClub.TestClub) ... ok\n",
      "test_updatePlayer (TestClub.TestClub) ... ok\n",
      "test_updateStaff (TestClub.TestClub) ... ok\n",
      "test_asList (TestFanType.TestFanType) ... ok\n",
      "test_updateTicketStatus (TestFanType.TestFanType) ... ok\n",
      "test_updateViewMatches (TestFanType.TestFanType) ... ok\n",
      "test_newYear (TestMember.TestMember) ... ok\n",
      "test_setSalary_getSalary (TestMember.TestMember) ... ok\n",
      "test_updateNationality (TestMember.TestMember) ... ok\n",
      "test_asList (TestMemberTypes.TestMemberTypes) ... ok\n",
      "test_updateJerseyNum (TestMemberTypes.TestMemberTypes) ... ok\n",
      "test_updatePosition (TestMemberTypes.TestMemberTypes) ... ok\n",
      "test_updateTitle (TestMemberTypes.TestMemberTypes) ... ok\n",
      "\n",
      "----------------------------------------------------------------------\n",
      "Ran 22 tests in 0.013s\n",
      "\n",
      "OK\n",
      "........................."
     ]
    },
    {
     "name": "stdout",
     "output_type": "stream",
     "text": [
      "<unittest.runner.TextTestResult run=25 errors=0 failures=0>\n"
     ]
    },
    {
     "name": "stderr",
     "output_type": "stream",
     "text": [
      "\n",
      "----------------------------------------------------------------------\n",
      "Ran 25 tests in 0.013s\n",
      "\n",
      "OK\n"
     ]
    }
   ],
   "source": [
    "import unittest\n",
    "\n",
    "from TestMemberTypes import TestMemberTypes\n",
    "from TestMember import TestMember\n",
    "from TestFanType import TestFanType\n",
    "from TestFan import TestFan\n",
    "\n",
    "from TestClub import TestClub\n",
    "\n",
    "\n",
    "def TestSuiteClub():\n",
    "    suite = unittest.TestSuite()\n",
    "    result = unittest.TestResult()\n",
    "    suite.addTest(unittest.makeSuite(TestMemberTypes))\n",
    "    suite.addTest(unittest.makeSuite(TestMember))\n",
    "    suite.addTest(unittest.makeSuite(TestFanType))\n",
    "    suite.addTest(unittest.makeSuite(TestFan))\n",
    "    suite.addTest(unittest.makeSuite(TestClub))\n",
    "    runner = unittest.TextTestRunner()\n",
    "    print(runner.run(suite))\n",
    "TestSuiteClub()"
   ]
  },
  {
   "cell_type": "code",
   "execution_count": null,
   "metadata": {},
   "outputs": [],
   "source": []
  }
 ],
 "metadata": {
  "kernelspec": {
   "display_name": "Python 3",
   "language": "python",
   "name": "python3"
  },
  "language_info": {
   "codemirror_mode": {
    "name": "ipython",
    "version": 3
   },
   "file_extension": ".py",
   "mimetype": "text/x-python",
   "name": "python",
   "nbconvert_exporter": "python",
   "pygments_lexer": "ipython3",
   "version": "3.7.3"
  }
 },
 "nbformat": 4,
 "nbformat_minor": 2
}
